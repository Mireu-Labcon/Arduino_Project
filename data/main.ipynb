{
  "nbformat": 4,
  "nbformat_minor": 0,
  "metadata": {
    "colab": {
      "name": "Untitled3.ipynb",
      "provenance": [],
      "collapsed_sections": []
    },
    "kernelspec": {
      "name": "python3",
      "display_name": "Python 3"
    },
    "language_info": {
      "name": "python"
    }
  },
  "cells": [
    {
      "cell_type": "code",
      "metadata": {
        "id": "QNbrY3aow_eO"
      },
      "source": [
        "import json,csv"
      ],
      "execution_count": null,
      "outputs": []
    },
    {
      "cell_type": "code",
      "metadata": {
        "id": "NfxKicurxBQg"
      },
      "source": [
        "a = open(\"./arduino_data.json\",'r')\n",
        "data = json.load(a)\n",
        "\n",
        "data2 = data['test14']['온도']\n",
        "\n",
        "f = open('./file.csv', 'a', encoding='utf-8',newline='')\n",
        "wr = csv.writer(f)"
      ],
      "execution_count": 13,
      "outputs": []
    },
    {
      "cell_type": "code",
      "metadata": {
        "id": "LMVVZWJJxDoA",
        "colab": {
          "base_uri": "https://localhost:8080/"
        },
        "outputId": "e1919e72-ee1c-4c03-e03c-e63d3fc053bf"
      },
      "source": [
        "for data1 in data2:\n",
        "    #온도 정상인 데이터\n",
        "    if data1 == 'Hc':\n",
        "        print('2')\n",
        "        wr.writerow('2')\n",
        "\n",
        "    #온도 매우 낮은 데이터\n",
        "    elif data1 == 'Ha':\n",
        "        print('1')\n",
        "        wr.writerow('1')\n",
        "\n",
        "    #온도 매우 높은 데이터\n",
        "    elif data1 == 'Hb':\n",
        "        print('3')\n",
        "        wr.writerow('3')\n",
        "    \n",
        "    #없는 데이터(공백) from Json\n",
        "    else:\n",
        "        print('0')\n",
        "        wr.writerow('0')"
      ],
      "execution_count": 14,
      "outputs": [
        {
          "output_type": "stream",
          "text": [
            "0\n",
            "2\n",
            "2\n",
            "2\n",
            "2\n",
            "2\n",
            "2\n",
            "2\n",
            "2\n",
            "2\n",
            "2\n",
            "2\n",
            "2\n",
            "2\n",
            "2\n",
            "2\n",
            "2\n",
            "2\n",
            "2\n",
            "2\n",
            "2\n",
            "2\n",
            "2\n",
            "2\n",
            "2\n",
            "2\n",
            "2\n",
            "2\n",
            "2\n",
            "2\n",
            "2\n",
            "2\n",
            "2\n",
            "2\n"
          ],
          "name": "stdout"
        }
      ]
    },
    {
      "cell_type": "code",
      "metadata": {
        "colab": {
          "base_uri": "https://localhost:8080/",
          "height": 265
        },
        "id": "fAyZVmqJxfTJ",
        "outputId": "c6038dc5-d74e-4335-94d1-4cb8f1b841fe"
      },
      "source": [
        "import matplotlib.pyplot as plt\n",
        "\n",
        "f = open('file.csv', 'r', encoding='utf-8')\n",
        "wr = csv.reader(f)\n",
        "data4 = []\n",
        "for data in wr:\n",
        "  data4 = data\n",
        "\n",
        "plt.plot(data)\n",
        "plt.show()"
      ],
      "execution_count": 22,
      "outputs": [
        {
          "output_type": "display_data",
          "data": {
            "image/png": "[encoded data removed]",
            "text/plain": [
              "<Figure size 432x288 with 1 Axes>"
            ]
          },
          "metadata": {
            "needs_background": "light"
          }
        }
      ]
    }
  ]
}